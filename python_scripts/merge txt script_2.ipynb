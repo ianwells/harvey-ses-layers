{
 "cells": [
  {
   "cell_type": "code",
   "execution_count": 1,
   "metadata": {
    "collapsed": true
   },
   "outputs": [],
   "source": [
    "import glob\n",
    "import pandas as pd\n",
    "import numpy as np\n",
    "import matplotlib.pyplot as plt"
   ]
  },
  {
   "cell_type": "markdown",
   "metadata": {},
   "source": [
    "### Purpose of this notebook is to merge two txt files and get a dataframe with only residential land plots"
   ]
  },
  {
   "cell_type": "code",
   "execution_count": 6,
   "metadata": {
    "collapsed": false
   },
   "outputs": [],
   "source": [
    "\n",
    "\"\"\"\n",
    "Data from:\n",
    "http://pdata.hcad.org/download/index.html\n",
    "Land use codes reference:\n",
    "http://hcad.org/hcad-resources/hcad-appraisal-codes/hcad-land-use-codes/\n",
    "\n",
    "if the data source above is slow, like it was for me.....\n",
    ".... I had a better experience downloading the two required files from a google drive location\n",
    "\n",
    "real_acct.txt\n",
    "https://drive.google.com/open?id=0B268u-Eu4YuZMUVNUmtSRWJucVU\n",
    "\n",
    "land.txt\n",
    "https://drive.google.com/file/d/0B268u-Eu4YuZTUVHN2M3dlprNTQ/view?usp=sharing\n",
    "\n",
    "After download, put them in a folder named \"/data/real_building_land/\" and \"/data/real_acct_owner/\" at the main repo level for the code below to work:\n",
    "\"\"\"\n",
    "\n",
    "real_acct_df_colnames = [\"ACCOUNT\", \"TAX_YEAR\", \"MAILTO\", \"MAIL_ADDR_1\",\n",
    "                         \"MAIL_ADDR_2\", \"MAIL_CITY\", \"MAIL_STATE\", \"MAIL_ZIP\",\n",
    "                         \"MAIL_COUNTRY\", \"UNDELIVERABLE\", \"STR_PFX\", \"STR_NUM\",\n",
    "                         \"STR_NUM_SFX\", \"STR_NAME\", \"STR_SFX\", \"STR_SFX_DIR\",\n",
    "                         \"STR_UNIT\", \"SITE_ADDR_1\", \"SITE_ADDR_2\",\n",
    "                         \"SITE_ADDR_3\", \"STATE_CLASS\", \"SCHOOL_DIST\",\n",
    "                         \"MAP_FACET\", \"KEY_MAP\", \"NEIGHBRHOOD_CODE\",\n",
    "                         \"NEIGHBORHOOD_GROUP\", \"MARKET_AREA_1\",\n",
    "                         \"MARKET_AREA_1_DSCR\", \"MARKET_AREA_2\", \n",
    "                         \"MARKET_AREA_2_DSCR\", \"ECON_AREA\", \"ECON_BLD_CLASS\", \n",
    "                         \"CENTER_CODE\", \"YR_IMPR\", \"TR_ANNEXED\", \"SPLT_DT\",\n",
    "                         \"DSC_CD\", \"NXT_BUILDING\", \"TOTAL_BUILDING_AREA\",\n",
    "                         \"TOTAL_LAND_AREA\", \"ACERAGE\", \"CAP_ACCOUNT\", \n",
    "                         \"SHARED_CAD_CODE\", \"LAND_VALUE\", \"IMPROVEMENT_VALUE\", \n",
    "                         \"EXTRA_FEATURES_VALUE\", \"AG_VALUE\", \"ASSESSED_VALUE\",\n",
    "                         \"TOTAL_APPRAISED_VALUE\", \"TOTAL_MARKET_VALUE\", \n",
    "                         \"PRIOR_LND_VALUE\", \"PRIOR_IMPR_VALUE\", \n",
    "                         \"PRIOR_X_FEATURES_VALUE\", \"PRIOR_AG_VALUE\",\n",
    "                         \"PRIOR_TOTAL_APPRAISED_VALUE\", \n",
    "                         \"PRIOR_TOTAL_MARKET_VALUE\", \"NEW_CONSTRUCTION_VALUE\",\n",
    "                         \"TOTAL_RCN_VALUE\", \"VALUE_STATUS\", \"NOTICED\", \n",
    "                         \"NOTICE_DATE\", \"PROTESTED\", \"CERTIFIED_DATE\",\n",
    "                         \"LAST_INSPECTED_DATE\", \"LAST_INSPECTED_BY\", \n",
    "                         \"NEW_OWNER_DATE\", \"LEGAL_DSCR_1\", \"LEGAL_DSCR_2\",\n",
    "                         \"LEGAL_DSCR_3\",\"LEGAL_DSCR_4\", \"JURS\"]\n",
    "                         \n",
    "land_df_colnames = [\"ACCOUNT\", \"LINE_NUMBER\", \"LAND_USE_CODE\",\n",
    "                    \"LAND_USE_DSCR\", \"SITE_CD\", \"SITE_CD_DSCR\",\n",
    "                    \"SITE_ADJ\", \"UNIT_TYPE\", \"UNITS\", \"SIZE_FACTOR\",\n",
    "                    \"SITE_FACT\", \"APPR_OVERRIDE_FACTOR\",\n",
    "                    \"APPR_OVERRIDE_REASON\", \"TOT_ADJ\", \"UNIT_PRICE\",\n",
    "                    \"ADJ_UNIT_PRICE\", \"VALUE\", \"OVERRIDE_VALUE\"]\n",
    "\n",
    "land_use_codes = {4108: 'commercial_mobile_home',\n",
    "                  1006: 'condo_land',\n",
    "                  4201: 'residential_structure_on_apt_land',\n",
    "                  4209: 'apt_4_to_20',\n",
    "                  4211: 'apt_garden',\n",
    "                  4212: 'apt_mid_rise',\n",
    "                  4213: 'mobile_home_park',\n",
    "                  4214: 'apt_high_rise',\n",
    "                  4221: 'subsidized_housing',\n",
    "                  4301: 'res_struct_or_conv',\n",
    "                  4222: 'apartment_tax_credit_properties',\n",
    "                  4299: 'apartment_new_construction',\n",
    "                  1001: 'res_improved_table_value',\n",
    "                  2001: 'res_improved_override'\n",
    "                 }\n",
    "\n",
    "real_acct_df = pd.read_csv(\"../data/real_acct_owner/real_acct.txt\", sep='\\t',\n",
    "                            encoding=\"cp437\", names = real_acct_df_colnames, low_memory=False)\n",
    "\n",
    "real_acct_df.drop([\"STR_PFX\", \"STR_NUM\", \"STR_NUM_SFX\", \"STR_NAME\",\n",
    "                   \"STR_SFX\", \"STR_SFX_DIR\", \"STR_UNIT\", \"SITE_ADDR_1\",\n",
    "                   \"SITE_ADDR_2\", \"SITE_ADDR_3\", \"STATE_CLASS\",\n",
    "                   \"SCHOOL_DIST\", \"MAP_FACET\", \"KEY_MAP\", \"NEIGHBRHOOD_CODE\",\n",
    "                   \"NEIGHBORHOOD_GROUP\", \"MARKET_AREA_1\",\n",
    "                   \"MARKET_AREA_1_DSCR\", \"MARKET_AREA_2\", \"MARKET_AREA_2_DSCR\", \n",
    "                   \"ECON_AREA\", \"ECON_BLD_CLASS\", \"CENTER_CODE\", \"YR_IMPR\",\n",
    "                   \"TR_ANNEXED\", \"SPLT_DT\", \"DSC_CD\", \"NXT_BUILDING\",\n",
    "                   \"TOTAL_BUILDING_AREA\", \"TOTAL_LAND_AREA\", \"ACERAGE\",\n",
    "                   \"CAP_ACCOUNT\", \"SHARED_CAD_CODE\", \"LAND_VALUE\",\n",
    "                   \"IMPROVEMENT_VALUE\", \"EXTRA_FEATURES_VALUE\", \"AG_VALUE\", \n",
    "                   \"PRIOR_LND_VALUE\", \"PRIOR_IMPR_VALUE\",\n",
    "                   \"PRIOR_X_FEATURES_VALUE\", \"PRIOR_AG_VALUE\", \n",
    "                   \"PRIOR_TOTAL_APPRAISED_VALUE\", \"PRIOR_TOTAL_MARKET_VALUE\", \n",
    "                   \"NEW_CONSTRUCTION_VALUE\", \"TOTAL_RCN_VALUE\", \"VALUE_STATUS\",\n",
    "                   \"NOTICED\", \"NOTICE_DATE\", \"PROTESTED\", \"CERTIFIED_DATE\", \n",
    "                   \"LAST_INSPECTED_DATE\", \"LAST_INSPECTED_BY\", \"NEW_OWNER_DATE\",\n",
    "                   \"LEGAL_DSCR_1\", \"LEGAL_DSCR_2\", \"LEGAL_DSCR_3\",\n",
    "                   \"LEGAL_DSCR_4\", \"JURS\"], axis=1, inplace=True)\n",
    "                  \n",
    "land_df = pd.read_csv(\"../data/real_building_land/land.txt\",sep='\\t',\n",
    "                            encoding=\"cp437\", names = land_df_colnames, low_memory=False)\n",
    "land_df.drop([\"LINE_NUMBER\", \"SITE_CD\", \"SITE_CD_DSCR\",\n",
    "               \"SITE_ADJ\", \"UNIT_TYPE\", \"UNITS\", \"SIZE_FACTOR\", \"SITE_FACT\",\n",
    "               \"APPR_OVERRIDE_FACTOR\", \"APPR_OVERRIDE_REASON\", \"TOT_ADJ\",\n",
    "               \"UNIT_PRICE\", \"ADJ_UNIT_PRICE\", \"VALUE\", \"OVERRIDE_VALUE\"],\n",
    "               axis=1, inplace=True) \n",
    "               \n",
    "merged_df = real_acct_df.merge(land_df, on=\"ACCOUNT\")\n",
    "\n",
    "# garbage collection for memory reasons\n",
    "del land_df\n",
    "del real_acct_df               \n",
    "\n",
    "filtered_df = merged_df[merged_df['LAND_USE_CODE'].isin(land_use_codes.keys())]\n",
    "\n",
    "filtered_df.to_csv(\"residential_land_use_codes_all.csv\", index=False)\n",
    "\n",
    "\n",
    "\"\"\"\n",
    "This should create a file in the folder where the jupyter notebook runs named residential_land_use_codes_all.csv\n",
    "\n",
    "PLEASE NOTE THAT THIS FILE IS TOO BIG TO UPLOAD TO GITHUB\n",
    "\n",
    "YOU SHOULD MOVE THE FILE TO THE DATA FOLDER, which is ignored via the gitignore file instructions\n",
    "\"\"\""
   ]
  },
  {
   "cell_type": "code",
   "execution_count": 7,
   "metadata": {
    "collapsed": false
   },
   "outputs": [
    {
     "data": {
      "text/html": [
       "<div>\n",
       "<table border=\"1\" class=\"dataframe\">\n",
       "  <thead>\n",
       "    <tr style=\"text-align: right;\">\n",
       "      <th></th>\n",
       "      <th>ACCOUNT</th>\n",
       "      <th>TAX_YEAR</th>\n",
       "      <th>ASSESSED_VALUE</th>\n",
       "      <th>TOTAL_APPRAISED_VALUE</th>\n",
       "      <th>TOTAL_MARKET_VALUE</th>\n",
       "      <th>LAND_USE_CODE</th>\n",
       "    </tr>\n",
       "  </thead>\n",
       "  <tbody>\n",
       "    <tr>\n",
       "      <th>count</th>\n",
       "      <td>1.836938e+06</td>\n",
       "      <td>1836938.0</td>\n",
       "      <td>1.834313e+06</td>\n",
       "      <td>1.834313e+06</td>\n",
       "      <td>1.834313e+06</td>\n",
       "      <td>1.836938e+06</td>\n",
       "    </tr>\n",
       "    <tr>\n",
       "      <th>mean</th>\n",
       "      <td>1.019296e+12</td>\n",
       "      <td>2017.0</td>\n",
       "      <td>2.357196e+05</td>\n",
       "      <td>2.293101e+05</td>\n",
       "      <td>2.357196e+05</td>\n",
       "      <td>1.006671e+03</td>\n",
       "    </tr>\n",
       "    <tr>\n",
       "      <th>std</th>\n",
       "      <td>2.650330e+11</td>\n",
       "      <td>0.0</td>\n",
       "      <td>3.288365e+05</td>\n",
       "      <td>3.213511e+05</td>\n",
       "      <td>3.288365e+05</td>\n",
       "      <td>7.409042e+01</td>\n",
       "    </tr>\n",
       "    <tr>\n",
       "      <th>min</th>\n",
       "      <td>2.144000e+10</td>\n",
       "      <td>2017.0</td>\n",
       "      <td>0.000000e+00</td>\n",
       "      <td>0.000000e+00</td>\n",
       "      <td>0.000000e+00</td>\n",
       "      <td>1.001000e+03</td>\n",
       "    </tr>\n",
       "    <tr>\n",
       "      <th>25%</th>\n",
       "      <td>8.600800e+11</td>\n",
       "      <td>2017.0</td>\n",
       "      <td>1.130000e+05</td>\n",
       "      <td>1.047490e+05</td>\n",
       "      <td>1.130000e+05</td>\n",
       "      <td>1.001000e+03</td>\n",
       "    </tr>\n",
       "    <tr>\n",
       "      <th>50%</th>\n",
       "      <td>1.115670e+12</td>\n",
       "      <td>2017.0</td>\n",
       "      <td>1.637050e+05</td>\n",
       "      <td>1.587420e+05</td>\n",
       "      <td>1.637050e+05</td>\n",
       "      <td>1.001000e+03</td>\n",
       "    </tr>\n",
       "    <tr>\n",
       "      <th>75%</th>\n",
       "      <td>1.202630e+12</td>\n",
       "      <td>2017.0</td>\n",
       "      <td>2.496670e+05</td>\n",
       "      <td>2.446480e+05</td>\n",
       "      <td>2.496670e+05</td>\n",
       "      <td>1.001000e+03</td>\n",
       "    </tr>\n",
       "    <tr>\n",
       "      <th>max</th>\n",
       "      <td>1.955020e+12</td>\n",
       "      <td>2017.0</td>\n",
       "      <td>2.552447e+07</td>\n",
       "      <td>2.552447e+07</td>\n",
       "      <td>2.552447e+07</td>\n",
       "      <td>4.301000e+03</td>\n",
       "    </tr>\n",
       "  </tbody>\n",
       "</table>\n",
       "</div>"
      ],
      "text/plain": [
       "            ACCOUNT   TAX_YEAR  ASSESSED_VALUE  TOTAL_APPRAISED_VALUE  \\\n",
       "count  1.836938e+06  1836938.0    1.834313e+06           1.834313e+06   \n",
       "mean   1.019296e+12     2017.0    2.357196e+05           2.293101e+05   \n",
       "std    2.650330e+11        0.0    3.288365e+05           3.213511e+05   \n",
       "min    2.144000e+10     2017.0    0.000000e+00           0.000000e+00   \n",
       "25%    8.600800e+11     2017.0    1.130000e+05           1.047490e+05   \n",
       "50%    1.115670e+12     2017.0    1.637050e+05           1.587420e+05   \n",
       "75%    1.202630e+12     2017.0    2.496670e+05           2.446480e+05   \n",
       "max    1.955020e+12     2017.0    2.552447e+07           2.552447e+07   \n",
       "\n",
       "       TOTAL_MARKET_VALUE  LAND_USE_CODE  \n",
       "count        1.834313e+06   1.836938e+06  \n",
       "mean         2.357196e+05   1.006671e+03  \n",
       "std          3.288365e+05   7.409042e+01  \n",
       "min          0.000000e+00   1.001000e+03  \n",
       "25%          1.130000e+05   1.001000e+03  \n",
       "50%          1.637050e+05   1.001000e+03  \n",
       "75%          2.496670e+05   1.001000e+03  \n",
       "max          2.552447e+07   4.301000e+03  "
      ]
     },
     "execution_count": 7,
     "metadata": {},
     "output_type": "execute_result"
    }
   ],
   "source": [
    "# checking that the filtered dataframe looks okay\n",
    "filtered_df.describe()"
   ]
  },
  {
   "cell_type": "code",
   "execution_count": 9,
   "metadata": {
    "collapsed": false
   },
   "outputs": [
    {
     "data": {
      "text/plain": [
       "count    1.836938e+06\n",
       "mean     1.019296e+12\n",
       "std      2.650330e+11\n",
       "min      2.144000e+10\n",
       "25%      8.600800e+11\n",
       "50%      1.115670e+12\n",
       "75%      1.202630e+12\n",
       "max      1.955020e+12\n",
       "Name: ACCOUNT, dtype: float64"
      ]
     },
     "execution_count": 9,
     "metadata": {},
     "output_type": "execute_result"
    }
   ],
   "source": [
    "# making a smaller version of the dataframe that only has account dimension\n",
    "account_only_df = filtered_df['ACCOUNT']\n",
    "account_only_df.describe()"
   ]
  },
  {
   "cell_type": "code",
   "execution_count": 11,
   "metadata": {
    "collapsed": true
   },
   "outputs": [],
   "source": [
    "# making a CSV version of the acounts only\n",
    "account_only_df.to_csv(\"residential_land_account.csv\")"
   ]
  },
  {
   "cell_type": "code",
   "execution_count": 12,
   "metadata": {
    "collapsed": true
   },
   "outputs": [],
   "source": [
    "# making a TXT version of the acounts only that is a little smaller than the CSV\n",
    "np.savetxt(r'accounts.txt', account_only_df.values, fmt='%d')"
   ]
  },
  {
   "cell_type": "markdown",
   "metadata": {},
   "source": [
    "## PLEASE NOTE THAT MANY OF THE FILES ARE TOO BIG TO UPLOAD TO GITHUB\n",
    "\n",
    "## YOU SHOULD MOVE THE FILE TO THE DATA FOLDER, which is ignored via the gitignore file instructions"
   ]
  },
  {
   "cell_type": "code",
   "execution_count": null,
   "metadata": {
    "collapsed": true
   },
   "outputs": [],
   "source": []
  }
 ],
 "metadata": {
  "kernelspec": {
   "display_name": "Python 3",
   "language": "python",
   "name": "python3"
  },
  "language_info": {
   "codemirror_mode": {
    "name": "ipython",
    "version": 3
   },
   "file_extension": ".py",
   "mimetype": "text/x-python",
   "name": "python",
   "nbconvert_exporter": "python",
   "pygments_lexer": "ipython3",
   "version": "3.5.2"
  }
 },
 "nbformat": 4,
 "nbformat_minor": 2
}
